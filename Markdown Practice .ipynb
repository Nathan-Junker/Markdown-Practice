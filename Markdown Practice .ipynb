{
 "cells": [
  {
   "cell_type": "code",
   "execution_count": 1,
   "id": "9193c755",
   "metadata": {},
   "outputs": [
    {
     "name": "stdout",
     "output_type": "stream",
     "text": [
      "6\n"
     ]
    }
   ],
   "source": [
    "a=3\n",
    "b=a*2\n",
    "print(b)\n"
   ]
  },
  {
   "cell_type": "markdown",
   "id": "c47c50af",
   "metadata": {},
   "source": [
    "c=5\n",
    "d=6\n",
    "print(c+d\n",
    "    )"
   ]
  },
  {
   "cell_type": "code",
   "execution_count": 3,
   "id": "cfd5fc1a",
   "metadata": {
    "scrolled": true
   },
   "outputs": [
    {
     "name": "stdout",
     "output_type": "stream",
     "text": [
      "hello class welcime to CS150\n"
     ]
    }
   ],
   "source": [
    "print(\"hello class welcome to CS150\")"
   ]
  },
  {
   "cell_type": "code",
   "execution_count": 4,
   "id": "e164f03b",
   "metadata": {
    "scrolled": true
   },
   "outputs": [
    {
     "ename": "SyntaxError",
     "evalue": "invalid syntax (478061935.py, line 1)",
     "output_type": "error",
     "traceback": [
      "\u001b[1;36m  Input \u001b[1;32mIn [4]\u001b[1;36m\u001b[0m\n\u001b[1;33m    >hello\u001b[0m\n\u001b[1;37m    ^\u001b[0m\n\u001b[1;31mSyntaxError\u001b[0m\u001b[1;31m:\u001b[0m invalid syntax\n"
     ]
    }
   ],
   "source": []
  },
  {
   "cell_type": "markdown",
   "id": "95c6b6d2",
   "metadata": {},
   "source": [
    "#heading 1#\n",
    "\n",
    "\n"
   ]
  },
  {
   "cell_type": "markdown",
   "id": "efe901d9",
   "metadata": {},
   "source": [
    "#Heading1\n",
    "##Heading2\n",
    "###Heading3\n",
    "####Heading4\n",
    "#####Heading5\n",
    "######Heaeding6\n"
   ]
  },
  {
   "cell_type": "markdown",
   "id": "084b2bf3",
   "metadata": {},
   "source": [
    "#Heading1 \n",
    "##Heading2 \n",
    "###Heading3 \n",
    "####Heading4 \n",
    "#####Heading5 \n",
    "######Heaeding6"
   ]
  },
  {
   "cell_type": "markdown",
   "id": "888c33ae",
   "metadata": {},
   "source": [
    "# Heading1\n",
    "## Heading2\n",
    "### Heading 3\n",
    "#### Heading 4\n",
    "##### Heading 5\n",
    "###### Heading 6\n"
   ]
  },
  {
   "cell_type": "markdown",
   "id": "8b942f2a",
   "metadata": {},
   "source": [
    "* List 1\n",
    "* List 2\n",
    "* List 3 \n",
    "\n",
    "1. Ordered list 1 \n",
    "2. Ordered list 2\n",
    "3. ordered list 3\n",
    "\n",
    "**Bold text**\n",
    "*Italics*\n",
    "\n",
    "`Highlighted code`\n",
    "\n",
    "<a href=\"www.google.com\">GOOGLE</a>\n",
    "\n",
    "![Python Logo](https://th.bing.com/th/id/OIP.vTYhUj3-j-ZTugnOcJSCGAHaJ4?pid=ImgDet&rs=1)\n",
    "\n"
   ]
  },
  {
   "cell_type": "markdown",
   "id": "f7cf759e",
   "metadata": {},
   "source": [
    "<a href=\"https://www.google.com/\">Google</a>"
   ]
  },
  {
   "cell_type": "code",
   "execution_count": null,
   "id": "bef9738c",
   "metadata": {},
   "outputs": [],
   "source": []
  }
 ],
 "metadata": {
  "kernelspec": {
   "display_name": "Python 3 (ipykernel)",
   "language": "python",
   "name": "python3"
  },
  "language_info": {
   "codemirror_mode": {
    "name": "ipython",
    "version": 3
   },
   "file_extension": ".py",
   "mimetype": "text/x-python",
   "name": "python",
   "nbconvert_exporter": "python",
   "pygments_lexer": "ipython3",
   "version": "3.9.12"
  }
 },
 "nbformat": 4,
 "nbformat_minor": 5
}
